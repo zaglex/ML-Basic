{
 "cells": [
  {
   "cell_type": "markdown",
   "id": "8955a739",
   "metadata": {},
   "source": [
    "# Домашнее задание: Базовые типы данных\n",
    "\n"
   ]
  },
  {
   "cell_type": "markdown",
   "id": "d4e67b86",
   "metadata": {},
   "source": [
    "## Задание 1: Зеркальное отражение цифр\n",
    "\n",
    "Пользователь вводит пятизначное число. Программа должна зеркально отразить три центральные цифры. Первая и последняя остаются на местах.\n",
    "\n",
    "<br>\n",
    "\n",
    "**Примеры:**\n",
    "* `23456 -> 25436`\n",
    "* `30789 -> 38709`"
   ]
  },
  {
   "cell_type": "code",
   "id": "5a4d665d",
   "metadata": {
    "ExecuteTime": {
     "end_time": "2025-06-09T20:32:55.597489Z",
     "start_time": "2025-06-09T20:32:52.428438Z"
    }
   },
   "source": [
    "import sys\n",
    "\n",
    "s = input()\n",
    "result = s[0] + s[3:0:-1] + s[4]\n",
    "print(result)"
   ],
   "outputs": [
    {
     "name": "stdout",
     "output_type": "stream",
     "text": [
      "14325\n"
     ]
    }
   ],
   "execution_count": 26
  },
  {
   "cell_type": "markdown",
   "id": "00b9578b",
   "metadata": {},
   "source": [
    "## Задание 2: Подсчет выходных до отпуска\n",
    "\n",
    "Пользователь вводит сколько дней осталось до ближайшего отпуска. Программа должна вывести количество выходных дней до отпуска, если учесть, что выходные это суббота и воскресенье, сегодня понедельник и праздники мы не учитываем.  \n",
    "\n",
    "<br>\n",
    "\n",
    "**Примеры:**\n",
    "* `4  -> 0`\n",
    "* `6  -> 1`\n",
    "* `14 -> 4`"
   ]
  },
  {
   "cell_type": "code",
   "id": "07154103",
   "metadata": {
    "ExecuteTime": {
     "end_time": "2025-06-09T20:32:56.923188Z",
     "start_time": "2025-06-09T20:32:55.600450Z"
    }
   },
   "source": [
    "days = int(input())\n",
    "whole_weeks = days // 7\n",
    "weekend_days = whole_weeks * 2 + int(days % 7 == 6)\n",
    "print(weekend_days)"
   ],
   "outputs": [
    {
     "name": "stdout",
     "output_type": "stream",
     "text": [
      "0\n"
     ]
    }
   ],
   "execution_count": 27
  },
  {
   "cell_type": "markdown",
   "id": "cdde282c",
   "metadata": {},
   "source": [
    "## Задание 3: Плитка шоколада\n",
    "\n",
    "Пользователь вводит длину и ширину плитки шоколада, а также размер куска, который хочет отломить. Программа должна вычислить - можно ли совершить подобный разлом или нет, если учесть, что ломать можно только по прямой.\n",
    "\n",
    "<br>\n",
    "\n",
    "**Примеры:**\n",
    "* `3, 4, 6  -> True`\n",
    "* `5, 7, 8  -> False`\n",
    "* `4, 5, 12 -> True`"
   ]
  },
  {
   "cell_type": "code",
   "id": "70f3324c",
   "metadata": {
    "ExecuteTime": {
     "end_time": "2025-06-09T20:49:03.602522Z",
     "start_time": "2025-06-09T20:49:00.452580Z"
    }
   },
   "source": [
    "l = int(input(\"Enter length\"))\n",
    "w = int(input(\"Enter width\"))\n",
    "s = int(input(\"Enter size\"))\n",
    "\n",
    "s_divs_l = s % l == 0 \n",
    "s_divs_w = s % w == 0\n",
    "   \n",
    "result = (s_divs_l and s // l <= w) or (s_divs_w and s // w <= l)\n",
    "    \n",
    "print(result)\n"
   ],
   "outputs": [
    {
     "name": "stdout",
     "output_type": "stream",
     "text": [
      "True\n"
     ]
    }
   ],
   "execution_count": 4
  },
  {
   "cell_type": "markdown",
   "id": "6470efc1",
   "metadata": {},
   "source": [
    "## Задание 4: Римские числа\n",
    "\n",
    "Пользователь вводит целое положительное число, программа должна вернуть строку в виде римского числа.\n",
    "\n",
    "<br>\n",
    "\n",
    "**Примеры:**\n",
    "* `3   -> III`\n",
    "* `15  -> XV`\n",
    "* `234 -> CCXXXIV`"
   ]
  },
  {
   "cell_type": "code",
   "id": "8686127c",
   "metadata": {
    "ExecuteTime": {
     "end_time": "2025-06-10T10:55:19.638233Z",
     "start_time": "2025-06-10T10:55:17.780352Z"
    }
   },
   "source": [
    "num = int(input())\n",
    "if num > 3999:\n",
    "    print(\"That's too big. Max is 3999\")\n",
    "    sys.exit()\n",
    "    \n",
    "result = \"\"\n",
    "    \n",
    "thousands = num // 1000\n",
    "if thousands:\n",
    "    result += 'M' * thousands\n",
    "num = num % 1000\n",
    "    \n",
    "hundreds = num // 100\n",
    "if hundreds == 9:\n",
    "    result += 'CM'\n",
    "elif hundreds >= 5:\n",
    "    result += 'D'\n",
    "    result += 'C' * (hundreds - 5)\n",
    "elif hundreds == 4:\n",
    "    result += 'CD'\n",
    "else:\n",
    "    result += 'C' * hundreds\n",
    "num = num % 100\n",
    "   \n",
    "tens = num // 10\n",
    "if tens == 9:\n",
    "    result += 'XC'\n",
    "elif tens >= 5:\n",
    "    result += 'L'\n",
    "    result += 'X' * (tens - 5)\n",
    "elif tens == 4:\n",
    "    result += 'XL'\n",
    "else:\n",
    "    result += 'X' * tens \n",
    "num = num %10\n",
    "    \n",
    "ones = num\n",
    "if ones == 9:\n",
    "    result += 'IX'\n",
    "elif ones >= 5:\n",
    "    result += 'V'\n",
    "    result += 'I' * (ones - 5)\n",
    "elif ones == 4:\n",
    "    result += 'IV'\n",
    "else:\n",
    "    result += 'I' * ones \n",
    "    \n",
    "print(result)\n",
    "    "
   ],
   "outputs": [
    {
     "name": "stdout",
     "output_type": "stream",
     "text": [
      "MMMCMXCIX\n"
     ]
    }
   ],
   "execution_count": 1
  },
  {
   "cell_type": "markdown",
   "id": "ca6a4c0a",
   "metadata": {},
   "source": [
    "## Задание 5: Проверка на вещественное число\n",
    "\n",
    "Пользователь вводит данные, проверить - являются ли они положительным вещественным числом. Не использовать встроенные функции для проверки, только методы данных и конструкцию IF. (Дополнительное задание, по желанию - проверка на отрицательные вещественные числа)\n",
    "\n",
    "<br>\n",
    "\n",
    "**Примеры:**\n",
    "* `5.6  -> True`\n",
    "* `.78  -> True`\n",
    "* `.67. -> False`\n",
    "* `5    -> True`"
   ]
  },
  {
   "cell_type": "code",
   "id": "74e39179",
   "metadata": {
    "ExecuteTime": {
     "end_time": "2025-06-10T14:00:49.524561Z",
     "start_time": "2025-06-10T14:00:48.354492Z"
    }
   },
   "source": [
    "def check_float(s):\n",
    "    parts = s.split('.')\n",
    "    \n",
    "    if len(parts) > 2:\n",
    "        return False\n",
    "    \n",
    "    left = parts[0]\n",
    "    if left != '':\n",
    "        left_int = int(left)\n",
    "        if str(left_int) != left or left_int < 0:\n",
    "            return False\n",
    "        \n",
    "    if len(parts) == 2:\n",
    "        right = parts[1]\n",
    "        if right != '':\n",
    "            right_int = int(right)\n",
    "            if str(right_int) != right:\n",
    "                return False\n",
    " \n",
    "    return True\n",
    "\n",
    "s = input()\n",
    "\n",
    "check_float(s)"
   ],
   "outputs": [
    {
     "data": {
      "text/plain": [
       "True"
      ]
     },
     "execution_count": 23,
     "metadata": {},
     "output_type": "execute_result"
    }
   ],
   "execution_count": 23
  },
  {
   "metadata": {
    "ExecuteTime": {
     "end_time": "2025-06-10T13:59:52.152029Z",
     "start_time": "2025-06-10T13:59:52.148757Z"
    }
   },
   "cell_type": "code",
   "source": "",
   "id": "6a3cd6a96e6b5ad8",
   "outputs": [],
   "execution_count": 21
  },
  {
   "metadata": {
    "ExecuteTime": {
     "end_time": "2025-06-10T13:54:19.344763Z",
     "start_time": "2025-06-10T13:54:19.341377Z"
    }
   },
   "cell_type": "code",
   "source": ".78",
   "id": "c0e781702824c818",
   "outputs": [],
   "execution_count": 13
  },
  {
   "metadata": {},
   "cell_type": "code",
   "outputs": [],
   "execution_count": null,
   "source": "",
   "id": "2ab463bded26206e"
  }
 ],
 "metadata": {
  "kernelspec": {
   "display_name": ".venv (3.11.12)",
   "language": "python",
   "name": "python3"
  },
  "language_info": {
   "name": "python",
   "version": "3.11.12"
  }
 },
 "nbformat": 4,
 "nbformat_minor": 5
}
