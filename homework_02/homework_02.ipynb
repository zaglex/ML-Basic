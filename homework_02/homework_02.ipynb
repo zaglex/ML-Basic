{
 "cells": [
  {
   "cell_type": "markdown",
   "id": "a2c501e6",
   "metadata": {},
   "source": [
    "# Домашнее задание: Управляющие конструкции"
   ]
  },
  {
   "cell_type": "markdown",
   "id": "3e4cac4a",
   "metadata": {},
   "source": [
    "## Задание 1: Получение однозначного числа\n",
    "\n",
    "Пользователь вводит целое число, программа складывает все цифры числа, с полученным числом — то же самое, и так до тех пор, пока не получится однозначное число.\n",
    "\n",
    "<br>\n",
    "\n",
    "**Примеры:**\n",
    "* `545   -> 5`\n",
    "* `12345 -> 6`"
   ]
  },
  {
   "cell_type": "code",
   "id": "344e919f",
   "metadata": {
    "ExecuteTime": {
     "end_time": "2025-06-15T11:03:42.071427Z",
     "start_time": "2025-06-15T11:03:40.033533Z"
    }
   },
   "source": [
    "import sys\n",
    "\n",
    "s = input()\n",
    "while len(s) > 1:\n",
    "    total = 0\n",
    "    for sdigit in s:\n",
    "        total += int(sdigit)\n",
    "    s = str(total)\n",
    "    \n",
    "print(s)"
   ],
   "outputs": [
    {
     "name": "stdout",
     "output_type": "stream",
     "text": [
      "6\n"
     ]
    }
   ],
   "execution_count": 4
  },
  {
   "cell_type": "markdown",
   "id": "45527a4a",
   "metadata": {},
   "source": [
    "## Задание 2: Кинотеатр\n",
    "\n",
    "Дан список списков, каждый вложенный список состоит из 1 и 0, количество вложенных списков — количество рядов. Пользователь вводит, сколько билетов ему требуется. Программа должна найти ряд, где можно приобрести нужное количество билетов (места должны быть рядом). Если таких рядов несколько, то ближайший к экрану (ближайшим считается нулевой ряд). Если таких мест нет, то вывести False.\n",
    "\n",
    "<br>\n",
    "\n",
    "**Примеры:**\n",
    "* `[[0,1,1,0], [1,0,0,0], [0,1,0,0]], 2 -> 1`\n",
    "* `[[0,1,1,0], [1,0,1,0], [1,1,0,1]], 2 -> False`"
   ]
  },
  {
   "cell_type": "code",
   "id": "3a29082d",
   "metadata": {
    "ExecuteTime": {
     "end_time": "2025-06-15T11:37:58.122285Z",
     "start_time": "2025-06-15T11:37:53.608110Z"
    }
   },
   "source": [
    "import time\n",
    "\n",
    "cases = [\n",
    "    [[0,1,1,0], [1,0,0,0], [0,1,0,0]], # case 1\n",
    "    [[0,1,1,0], [1,0,1,0], [1,1,0,1]], # case 2\n",
    "]\n",
    "\n",
    "def find_row(case, places_required):\n",
    "    for row_num in range(len(case)):\n",
    "        row_places = case[row_num]\n",
    "        places_found = 0\n",
    "        for row_place in row_places:\n",
    "            if row_place:\n",
    "                places_found = 0\n",
    "            else:\n",
    "                places_found +=1\n",
    "                if places_found >= places_required:\n",
    "                    break\n",
    "                    \n",
    "        if places_found >= places_required:\n",
    "            return row_num\n",
    "    else:\n",
    "        return -1\n",
    "\n",
    "while True:\n",
    "    command = input(\"Which case do you want to test? (input 'exit' to quit)\")\n",
    "    if command == 'exit':\n",
    "        break\n",
    "    caseNum = int(command)\n",
    "    if caseNum < 0 or  caseNum> len(cases):\n",
    "        print(\"Unexpected case num. It must be 1 or 2\")\n",
    "        continue\n",
    "        \n",
    "    print(\"Good. Going to test case №\" + str(caseNum))\n",
    "    time.sleep(1)\n",
    "    case = cases[caseNum-1]\n",
    "    print(case)\n",
    "    while True:\n",
    "        tickets = int(input(\"How many tickets do you need?\"))\n",
    "        if tickets > 0:\n",
    "            break\n",
    "        print(\"Unexpected input. Tickets number must be greater than 1\")\n",
    "        time.sleep(1)\n",
    "            \n",
    "    result = find_row(case, tickets)\n",
    "    print(\"Best matching row: \" + str(result) if result != -1 else \"No matching row found\")\n",
    "    \n",
    "    break\n",
    "    "
   ],
   "outputs": [
    {
     "name": "stdout",
     "output_type": "stream",
     "text": [
      "Good. Going to test case №1\n",
      "[[0, 1, 1, 0], [1, 0, 0, 0], [0, 1, 0, 0]]\n",
      "Best matching row: 1\n"
     ]
    }
   ],
   "execution_count": 26
  },
  {
   "cell_type": "markdown",
   "id": "7b7f098c",
   "metadata": {},
   "source": [
    "## Задание 3: Алгоритм RLE\n",
    "\n",
    "Необходимо написать упрощенную версию алгоритма RLE. \n",
    "Алгоритм RLE объединяет подряд идущие символы в коэффициент и символ.\n",
    "\n",
    "<br>\n",
    "\n",
    "**Примеры:**\n",
    "* `asssdddsssddd -> 1a3s3d3s3d`\n",
    "* `aaabbbbccccc  -> 3a4b5c`\n",
    "* `abcba         -> 1a1b1c1b1a`"
   ]
  },
  {
   "cell_type": "code",
   "id": "e0d30ec2",
   "metadata": {
    "ExecuteTime": {
     "end_time": "2025-06-15T11:49:55.728395Z",
     "start_time": "2025-06-15T11:49:53.013315Z"
    }
   },
   "source": [
    "\n",
    "def my_rle(s):\n",
    "    if s == '':\n",
    "        return s\n",
    "        \n",
    "    prev_c = s[0]\n",
    "    counter = 1\n",
    "    result = ''\n",
    "    for idx in range(1, len(s) ):\n",
    "        c = s[idx]\n",
    "        if c == prev_c:\n",
    "            counter += 1\n",
    "        else:\n",
    "            result += str(counter) + prev_c\n",
    "            counter = 1\n",
    "            prev_c = c\n",
    "            \n",
    "    result += str(counter) + prev_c\n",
    "    return result\n",
    "    \n",
    "s = input()\n",
    "print(my_rle(s))\n"
   ],
   "outputs": [
    {
     "name": "stdout",
     "output_type": "stream",
     "text": [
      "1a1b1c1b1a\n"
     ]
    }
   ],
   "execution_count": 36
  },
  {
   "cell_type": "markdown",
   "id": "f24d5e58",
   "metadata": {},
   "source": [
    "## Задание 4: Шифр Цезаря\n",
    "\n",
    "Реализуйте программу для шифрования текста с помощью шифра Цезаря.  \n",
    "Шифр Цезаря — это метод шифрования, при котором каждая буква в тексте заменяется буквой, стоящей на фиксированное число позиций дальше в алфавите.\n",
    "\n",
    "### Требования\n",
    "1. Программа должна принимать на вход:\n",
    "   - Строку текста для шифрования\n",
    "   - Ключ шифра (число от 0 до 25)\n",
    "\n",
    "2. Правила шифрования:\n",
    "   - Шифруются только латинские буквы (a-z, A-Z)\n",
    "   - Сохраняется регистр букв (заглавные остаются заглавными)\n",
    "   - Пробелы, цифры и знаки препинания остаются без изменений\n",
    "   - Сдвиг циклический (после 'z' идет 'a', после 'Z' идет 'A')\n",
    "\n",
    "### Примеры\n",
    "\n",
    "* `\"Hello World\", 3      -> \"Khoor Zruog\"`\n",
    "* `\"Python is great!\", 5 -> \"Udymts nx lwjfy!\"`\n",
    "* `\"XYZ abc\", 3          -> \"ABC def\"`\n",
    "* `\"Test 123\", 1         -> \"Uftu 123\"`\n",
    "\n",
    "### Алгоритм\n",
    "* Для каждого символа в строке:\n",
    "   - Если это латинская буква, найти её позицию в алфавите\n",
    "   - Добавить к позиции значение ключа\n",
    "   - Если результат больше 25, использовать остаток от деления на 26\n",
    "   - Преобразовать обратно в букву, сохранив регистр\n",
    "   - Если это не буква, оставить символ без изменений\n"
   ]
  },
  {
   "cell_type": "code",
   "id": "6a075d20",
   "metadata": {
    "ExecuteTime": {
     "end_time": "2025-06-15T12:10:14.448424Z",
     "start_time": "2025-06-15T12:10:10.813501Z"
    }
   },
   "source": [
    "#az = 'abcdefghijklmnopqrstuvwxyz'\n",
    "#for c in az.upper():\n",
    "#    print(c + ' -> ' + str(ord(c)))\n",
    "#ys.exit()\n",
    "\n",
    "def handle_one_char(c, cipher):\n",
    "    if not is_latin_letter(c):\n",
    "        return c\n",
    "    \n",
    "    upper = c.upper() == c\n",
    "    to_lower = c if not upper else c.lower()\n",
    "    transformed_lower = caesar_transform(to_lower, cipher)\n",
    "    result = transformed_lower if not upper else transformed_lower.upper()\n",
    "    return result\n",
    "    \n",
    "def is_latin_letter(c):\n",
    "    return 'a' <= c <= 'z' or 'A' <= c <= 'Z'\n",
    "\n",
    "ord_z = ord('z')\n",
    "alphabet_len = 26\n",
    "def caesar_transform(c, cipher):\n",
    "    #print(\"====\")\n",
    "    #print(\"Handling char '\" + c + \"'\")\n",
    "    #print(\"It's ord is: \" + str(ord(c)))\n",
    "    transformed_ord = ord(c) + cipher\n",
    "    #print(\"It's transformed_ord is: \" + str(transformed_ord))\n",
    "    if transformed_ord > ord_z:\n",
    "        transformed_ord -= alphabet_len\n",
    "        \n",
    "    #print(\"Resulting transformed_ord is: \" + str(transformed_ord))\n",
    "    #print(\"Resulting chr(transformed_ord) is: \" + chr(transformed_ord))\n",
    "    #rint(\"====\")\n",
    "        \n",
    "    return chr(transformed_ord)\n",
    "\n",
    "s = input(\"Input text\")\n",
    "cipher = int(input(\"Input cipher\"))\n",
    "\n",
    "result = ''\n",
    "for c in s:\n",
    "    result += handle_one_char(c, cipher)\n",
    "    \n",
    "print(result)"
   ],
   "outputs": [
    {
     "name": "stdout",
     "output_type": "stream",
     "text": [
      "Uftu 123\n"
     ]
    }
   ],
   "execution_count": 49
  },
  {
   "cell_type": "markdown",
   "id": "c88bf52c",
   "metadata": {},
   "source": [
    "## Задание 5: Табель успеваемости\n",
    "\n",
    "Пользователь в бесконечном цикле (пока не будет введена пустая строка) вводит строки вида: 'название предмета' 'фамилия ученика' 'оценка'. После окончания ввода программа выводит в консоль название предмета, далее список учеников и все их оценки в виде таблицы.\n",
    "\n",
    "<br>\n",
    "\n",
    "**Примеры:**\n",
    "\n",
    "<br>\n",
    "\n",
    "*Ввод:*\n",
    "```python\n",
    "Математика Иванов  5\n",
    "Математика Иванов  4\n",
    "Литература Иванов  3\n",
    "Математика Петров  5\n",
    "Литература Сидоров 3\n",
    "Литература Петров  5\n",
    "Литература Иванов  4\n",
    "Математика Сидоров 3\n",
    "Математика Петров  5\n",
    "```\n",
    "\n",
    "<br>\n",
    "\n",
    "*Результат:*\n",
    "```python\n",
    "Математика # вводим название предмета\n",
    "\n",
    "# выводим список учеников и их оценки\n",
    "Иванов  5 4\n",
    "Петров  5 5\n",
    "Сидоров 3\n",
    "```\n",
    "\n",
    "```python\n",
    "Литература # вводим название предмета\n",
    "\n",
    "# выводим список учеников и их оценки\n",
    "Иванов  3 4\n",
    "Сидоров 3\n",
    "Петров  5\n",
    "```"
   ]
  },
  {
   "cell_type": "code",
   "id": "196f6ff4",
   "metadata": {
    "ExecuteTime": {
     "end_time": "2025-06-15T12:29:11.670540Z",
     "start_time": "2025-06-15T12:29:07.995212Z"
    }
   },
   "source": [
    "subject_grades = {}\n",
    "while True:\n",
    "    try:\n",
    "        s = input()\n",
    "    except EOFError:\n",
    "        break\n",
    "    if s == '':\n",
    "        break\n",
    "        \n",
    "    parts = s.split()\n",
    "    subject = parts[0]\n",
    "    student = parts[1]\n",
    "    grade = parts[2]\n",
    "    if not subject in subject_grades:\n",
    "        subject_grades[subject] = {}\n",
    "    if not student in subject_grades[subject]:\n",
    "        subject_grades[subject][student] = []\n",
    "    subject_grades[subject][student].append(grade)\n",
    "    \n",
    "for subject in subject_grades:\n",
    "    print(subject)\n",
    "    print()\n",
    "    for student in subject_grades[subject]:\n",
    "        print(student + ' ' + ' '.join(subject_grades[subject][student]))\n",
    "    print()\n",
    "        \n",
    "        \n"
   ],
   "outputs": [
    {
     "name": "stdout",
     "output_type": "stream",
     "text": [
      "Математика\n",
      "\n",
      "Иванов 5 5 5\n",
      "\n"
     ]
    }
   ],
   "execution_count": 61
  },
  {
   "metadata": {},
   "cell_type": "code",
   "outputs": [],
   "execution_count": null,
   "source": "",
   "id": "11dc3d28db3bfc91"
  }
 ],
 "metadata": {
  "kernelspec": {
   "display_name": ".venv (3.11.12)",
   "language": "python",
   "name": "python3"
  },
  "language_info": {
   "codemirror_mode": {
    "name": "ipython",
    "version": 3
   },
   "file_extension": ".py",
   "mimetype": "text/x-python",
   "name": "python",
   "nbconvert_exporter": "python",
   "pygments_lexer": "ipython3",
   "version": "3.11.12"
  }
 },
 "nbformat": 4,
 "nbformat_minor": 5
}
