{
 "cells": [
  {
   "cell_type": "markdown",
   "id": "e2450ffa",
   "metadata": {},
   "source": [
    "# Домашнее задание: Функции"
   ]
  },
  {
   "cell_type": "markdown",
   "id": "8d062500",
   "metadata": {},
   "source": [
    "## Задание 1: Конвертер регистров\n",
    "\n",
    "Написать функцию, которая будет переводить snake_case в PascalCase и наоборот. \n",
    "\n",
    "Функция должна сама определять - какой формат ей передали. Можно добавить ключевой аргумент, который будет принудительно возвращать один из форматов.\n",
    "\n",
    "<br>\n",
    "\n",
    "**Примеры:**\n",
    "* `otus_course     -> OtusCourse`\n",
    "* `PythonIsTheBest -> python_is_the_best`\n",
    "\n"
   ]
  },
  {
   "cell_type": "code",
   "id": "ec0075f5",
   "metadata": {
    "ExecuteTime": {
     "end_time": "2025-07-03T12:01:18.967340Z",
     "start_time": "2025-07-03T12:01:18.955500Z"
    }
   },
   "source": [
    "import fileinput\n",
    "import sys\n",
    "\n",
    "def to_snake_case(pascal: str):\n",
    "    if pascal == '':\n",
    "        return ''\n",
    "\n",
    "    snake = \"\"\n",
    "    snake += pascal[0].lower()\n",
    "    for char in pascal[1::]:\n",
    "        if char.isupper():\n",
    "            snake += '_' + char.lower()\n",
    "        else:\n",
    "            snake += char\n",
    "    return snake\n",
    "\n",
    "def to_pascal_case(snake: str):\n",
    "    if snake == '':\n",
    "        return ''\n",
    "\n",
    "    pascal = \"\"\n",
    "    prev_char = '_'\n",
    "    for char in snake:\n",
    "        if prev_char == '_':\n",
    "            pascal += char.upper()\n",
    "        elif char != '_':\n",
    "            pascal += char\n",
    "\n",
    "        prev_char = char\n",
    "\n",
    "    return pascal\n",
    "\n",
    "converters = {\n",
    "    \"snake\": to_snake_case,\n",
    "    \"pascal\": to_pascal_case\n",
    "}\n",
    "\n",
    "def convert_case(s: str, target_case: str = None):\n",
    "    if target_case is None:\n",
    "        if is_snake_case(s):\n",
    "            target_case = \"pascal\"\n",
    "        else:\n",
    "            target_case = \"snake\"\n",
    "    else:\n",
    "        if target_case not in converters:\n",
    "            print(\"Unexpected target_case: \" + target_case + \". Allowed cases: \" + ', '.join(converters.keys()))\n",
    "            sys.exit(1)\n",
    "\n",
    "    return converters[target_case](s)\n",
    "\n",
    "def is_snake_case(s: str):\n",
    "    return s.find('_') != -1\n",
    "\n",
    "test_inputs = [\n",
    "    \"otus_course\",\n",
    "    \"PythonIsTheBest\"\n",
    "]\n",
    "\n",
    "for s in test_inputs:\n",
    "    print(\"convert_case(\\\"\" + s + \"\\\") = \\\"\" + convert_case(s) + \"\\\"\")"
   ],
   "outputs": [
    {
     "name": "stdout",
     "output_type": "stream",
     "text": [
      "convert_case(\"otus_course\") = \"OtusCourse\"\n",
      "convert_case(\"PythonIsTheBest\") = \"python_is_the_best\"\n"
     ]
    }
   ],
   "execution_count": 15
  },
  {
   "cell_type": "markdown",
   "id": "b8253fb9",
   "metadata": {},
   "source": [
    "## Задание 2: Проверка валидности даты\n",
    "\n",
    "Написать функцию проверяющую валидность введенной даты.\n",
    "\n",
    "<br>\n",
    "\n",
    "**Примеры:**\n",
    "* `29.02.2000 -> True`\n",
    "* `29.02.2001 -> False`\n",
    "* `31.04.1962 -> False`\n",
    "\n"
   ]
  },
  {
   "cell_type": "code",
   "id": "e7f4e9c8",
   "metadata": {
    "ExecuteTime": {
     "end_time": "2025-07-03T12:24:28.557139Z",
     "start_time": "2025-07-03T12:24:28.545760Z"
    }
   },
   "source": [
    "months_days = {\n",
    "    1: 31,\n",
    "    2: 28,\n",
    "    3: 31,\n",
    "    4: 30,\n",
    "    5: 31,\n",
    "    6: 30,\n",
    "    7: 31,\n",
    "    8: 31,\n",
    "    9: 30,\n",
    "    10: 31,\n",
    "    11: 30,\n",
    "    12: 31,\n",
    "}\n",
    "\n",
    "def is_leap_year(year: int):\n",
    "    return (year % 4 == 0 and year % 100 != 0) or year % 400 == 0\n",
    "\n",
    "def is_valid_date(s: str):\n",
    "    parts = s.split('.')\n",
    "    if len(parts) != 3:\n",
    "        return False\n",
    "\n",
    "    for part in parts:\n",
    "        if not part.isnumeric():\n",
    "            return False\n",
    "\n",
    "    day, month, year = map(int, parts)\n",
    "\n",
    "    if day < 1 or day > 31:\n",
    "        return False\n",
    "\n",
    "    if month == 0 or month > 12:\n",
    "        return False\n",
    "\n",
    "    month_days = months_days[month]\n",
    "    if month == 2 and is_leap_year(year):\n",
    "        month_days += 1\n",
    "\n",
    "    if day > month_days:\n",
    "        return False\n",
    "\n",
    "    return True\n",
    "\n",
    "test_inputs = [\n",
    "    \"29.02.2000\",\n",
    "    \"29.02.2001\",\n",
    "    \"31.04.1962\",\n",
    "]\n",
    "for s in test_inputs:\n",
    "    print(s + \": \", is_valid_date(s))"
   ],
   "outputs": [
    {
     "name": "stdout",
     "output_type": "stream",
     "text": [
      "29.02.2000:  True\n",
      "29.02.2001:  False\n",
      "31.04.1962:  False\n"
     ]
    }
   ],
   "execution_count": 18
  },
  {
   "cell_type": "markdown",
   "id": "2d77053e",
   "metadata": {},
   "source": [
    "## Задание 3: Проверка на простое число\n",
    "\n",
    "Функция проверки на простое число. Простые числа – это такие числа, которые делятся на себя и на единицу.\n",
    "\n",
    "<br>\n",
    "\n",
    "**Примеры:**\n",
    "* `17 -> True`\n",
    "* `20 -> False`\n",
    "* `23 -> True`"
   ]
  },
  {
   "cell_type": "code",
   "id": "c20728f6",
   "metadata": {
    "ExecuteTime": {
     "end_time": "2025-07-03T12:49:49.971200Z",
     "start_time": "2025-07-03T12:49:49.961960Z"
    }
   },
   "source": [
    "def is_prime(number):\n",
    "    if number < 2:\n",
    "        return False\n",
    "    if number == 2:\n",
    "        return True\n",
    "\n",
    "    for divisor in range (3, int((number + 1)/2)):\n",
    "        if number % divisor == 0:\n",
    "            return False\n",
    "\n",
    "    return True\n",
    "\n",
    "test_inputs = [\n",
    "    -1,\n",
    "    0,\n",
    "    1,\n",
    "    2,\n",
    "    3,\n",
    "    17,\n",
    "    20,\n",
    "    23,\n",
    "    103,\n",
    "    999\n",
    "]\n",
    "for number in test_inputs:\n",
    "    print(number, \": \", is_prime(number))"
   ],
   "outputs": [
    {
     "name": "stdout",
     "output_type": "stream",
     "text": [
      "-1 :  False\n",
      "0 :  False\n",
      "1 :  False\n",
      "2 :  True\n",
      "3 :  True\n",
      "17 :  True\n",
      "20 :  False\n",
      "23 :  True\n",
      "103 :  True\n",
      "999 :  False\n"
     ]
    }
   ],
   "execution_count": 22
  },
  {
   "cell_type": "markdown",
   "id": "29703efe",
   "metadata": {},
   "source": [
    "## Задание 4: Учет пользователей\n",
    "\n",
    "Пользователь в бесконечном цикле вводит данные пользователей: имя, затем фамилию, возраст и ID. Ввод продолжается до тех пор, пока не будет введено пустое поле. \n",
    "\n",
    "Пользователи заносятся в словарь, где ключ это ID пользователя, а остальные данные записываются в виде кортежа. \n",
    "\n",
    "**Программа должна проверять:**\n",
    "* имя и фамилия состоят только из символов и начинаются с большой буквы - если не с большой, то заменяет букву на большую;\n",
    "* возраст должен быть числом от 18 до 60;\n",
    "* ID - целое число, дополненное до 8 знаков незначащими нулями, ID должен быть уникальным.\n",
    "\n",
    "**Дополнительно:** написать функцию, которая будет выводить полученный словарь в виде таблицы."
   ]
  },
  {
   "cell_type": "code",
   "id": "54d1f971",
   "metadata": {
    "ExecuteTime": {
     "end_time": "2025-07-03T13:16:29.463565Z",
     "start_time": "2025-07-03T13:16:29.450952Z"
    }
   },
   "source": [
    "test_input = [\n",
    "    \"Иван,Петров,45,00123456\",\n",
    "    \"александр,литвиненко,30,01234567\",\n",
    "    \"Николай,9зубарев,50,11111111\",\n",
    "    \"Антон,Буйнов,17,22222222\",\n",
    "    \"Пётр,Колесников,65,33333333\",\n",
    "    \"Геннадий,Илларионов,50,12345\",\n",
    "    \"Иван,ПетровВторой,40,00123456\",\n",
    "]\n",
    "\n",
    "db = dict()\n",
    "\n",
    "def handle_one_line(line: str):\n",
    "    parts = line.split(',')\n",
    "    if len(parts)!=4:\n",
    "        return False\n",
    "\n",
    "    name, surname, age, id = parts\n",
    "\n",
    "    error, name = validate_name(name)\n",
    "    if error:\n",
    "        return False, \"Invalid name\"\n",
    "    error, surname = validate_name(surname)\n",
    "    if error:\n",
    "        return False, \"Invalid surname\"\n",
    "\n",
    "    if not is_valid_id(id):\n",
    "        return False, \"Invalid id\"\n",
    "\n",
    "    age = int(age)\n",
    "    if not is_valid_age(age):\n",
    "        return False, \"Invalid age\"\n",
    "\n",
    "    if id in db:\n",
    "        return False, \"Duplicate id\"\n",
    "\n",
    "    db[id] = (name, surname, age)\n",
    "\n",
    "    return True, \"\"\n",
    "\n",
    "def validate_name(name: str):\n",
    "    if not name.isalpha():\n",
    "        return True, \"\"\n",
    "\n",
    "    if name[0].islower():\n",
    "        return False, name[0].upper() + name[1::]\n",
    "\n",
    "    return False, name\n",
    "\n",
    "def is_valid_id(id: str):\n",
    "    return len(id) == 8 and id.isnumeric()\n",
    "\n",
    "def is_valid_age(age: int):\n",
    "    return 18 <= age <= 60\n",
    "\n",
    "def print_table(db):\n",
    "    for id, person in db.items():\n",
    "        name, surname, age = person\n",
    "        print(f'{id:10}{name:20}{surname:20}{age:10d}')\n",
    "\n",
    "    return\n",
    "\n",
    "for line in test_input:\n",
    "    success, err_msg = handle_one_line(line)\n",
    "    if not success:\n",
    "        print(\"Skipping bad line: \" + line + \" (\" + err_msg + \")\")\n",
    "\n",
    "print(\"===Table===\")\n",
    "print_table(db)\n"
   ],
   "outputs": [
    {
     "name": "stdout",
     "output_type": "stream",
     "text": [
      "Skipping bad line: Николай,9зубарев,50,11111111 (Invalid surname)\n",
      "Skipping bad line: Антон,Буйнов,17,22222222 (Invalid age)\n",
      "Skipping bad line: Пётр,Колесников,65,33333333 (Invalid age)\n",
      "Skipping bad line: Геннадий,Илларионов,50,12345 (Invalid id)\n",
      "Skipping bad line: Иван,ПетровВторой,40,00123456 (Duplicate id)\n",
      "===Table===\n",
      "00123456  Иван                Петров                      45\n",
      "01234567  Александр           Литвиненко                  30\n"
     ]
    }
   ],
   "execution_count": 30
  },
  {
   "metadata": {},
   "cell_type": "code",
   "outputs": [],
   "execution_count": null,
   "source": "",
   "id": "1cf74b81e660d91"
  }
 ],
 "metadata": {
  "kernelspec": {
   "display_name": ".venv (3.11.12)",
   "language": "python",
   "name": "python3"
  },
  "language_info": {
   "name": "python",
   "version": "3.11.12"
  }
 },
 "nbformat": 4,
 "nbformat_minor": 5
}
